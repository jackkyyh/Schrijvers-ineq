{
 "cells": [
  {
   "cell_type": "markdown",
   "metadata": {},
   "source": [
    "# Proof for the Fundamental Theorem of Linear Inequalities\n",
    "\n",
    "Polyhedron is of great interest to mathematicians partly due to its close relation to the solution\n",
    "space of linear programming (LP) problems. Among the foundational results that characterize the\n",
    "algebraic properties of polyhedra is the *fundamental theorem of linear inequalities* (Thm 1), from\n",
    "which theorems like the finite basis theorem and decomposition theorem can be derived.\n",
    "\n",
    "> **Theorem 1 (Fundamental Theorem of Linear Inequalities)**: Let $a_1,\\dots,a_m,b\\in\\mathbb{R  }^n$. Then:\n",
    "> \n",
    "> either\n",
    "> - there exists $\\lambda\\in\\mathbb{R}_+^m$, such that $b=\\sum_{i=1}^{m}\\lambda_ia_i$;\n",
    "> \n",
    "> or\n",
    "> - there exists $c\\in\\mathbb{R}^n$, such that $c^Tb<0,c^Ta_1,\\dots,c^Ta_m\\geq 0$ and $c^Ta_j=0$ for $t-1$ linearly independent vectors $a_j$ from $a_1,\\dots,a_m$,\n",
    "> \n",
    "> where $\\mathbb{R}_+$ denotes the nonnegative real numbers and $t\\coloneqq \\operatorname{rank}\\{a_1,\\dots,a_m,b\\}$.\n",
    "\n",
    "In this notebook we follow Schriver's proof [1] of the theorem and implement an algorithm which returns either a $\\lambda\\in\\mathbb{R}_+^m$ or a $c\\in\\mathbb{R}^n$ satisfying the theorem statement. Moreover, since the algorithm is iterative, an animation will be created to visualize how such a result is progressively found. The algorithm does not assume $\\text{span}(a_1,\\dots,a_m)=\\mathbb{R}^n$ and works for arbitrary $n, m$. However, the animation is designed for $n=2$ only."
   ]
  },
  {
   "cell_type": "markdown",
   "metadata": {},
   "source": [
    "## Preparation\n",
    "We start by importing necessary packages and defining some helper functions."
   ]
  },
  {
   "cell_type": "code",
   "execution_count": 1,
   "metadata": {},
   "outputs": [],
   "source": [
    "import numpy as np\n",
    "from itertools import combinations\n",
    "import matplotlib.pyplot as plt"
   ]
  },
  {
   "cell_type": "markdown",
   "metadata": {},
   "source": [
    "These functions avoid floating point precesion errors."
   ]
  },
  {
   "cell_type": "code",
   "execution_count": 2,
   "metadata": {},
   "outputs": [],
   "source": [
    "def equal(a1, a2):\n",
    "    return (abs(a1 - a2) < 1e-10).all()\n",
    "\n",
    "def geq(a1, a2):\n",
    "    return (a1 > a2 - 1e-10).all()\n",
    "\n",
    "def greater(a1, a2):\n",
    "    return (a1 > a2 + 1e-10).all()"
   ]
  },
  {
   "cell_type": "markdown",
   "metadata": {},
   "source": [
    "This function verifies if the result is correct."
   ]
  },
  {
   "cell_type": "code",
   "execution_count": 3,
   "metadata": {},
   "outputs": [],
   "source": [
    "def print_result(case, A, b, lam_or_c):\n",
    "    if(case == 1):\n",
    "        assert geq(lam_or_c, 0)\n",
    "        assert equal(b, A @ lam_or_c)\n",
    "        print(f'Case 1. lambda = {lam_or_c}')\n",
    "    elif(case == 2):\n",
    "        assert greater(0, lam_or_c @ b)\n",
    "        assert geq(lam_or_c @ A, 0)\n",
    "\n",
    "        print(f'Case 2. c = {lam_or_c}')"
   ]
  },
  {
   "cell_type": "markdown",
   "metadata": {},
   "source": [
    "Now, we initialize $n, m, A=(a_1,\\dots,a_m)$ and $b$, as per defined in the theorem statement. Free free to change them to any other values you like."
   ]
  },
  {
   "cell_type": "code",
   "execution_count": 4,
   "metadata": {},
   "outputs": [],
   "source": [
    "n = 2\n",
    "m = 4\n",
    "\n",
    "A = np.random.rand(n, m) * 2 - 1\n",
    "b = np.random.rand(n) * 2 - 1"
   ]
  },
  {
   "cell_type": "markdown",
   "metadata": {},
   "source": [
    "Randomly generated matrices has full rank with probability 1.\n",
    "However, we can manually reduce its rank by manipulating its colomns, e.g.,"
   ]
  },
  {
   "cell_type": "code",
   "execution_count": 5,
   "metadata": {},
   "outputs": [],
   "source": [
    "# A[:, 3] = A[:, 0] + A[:, 1] - A[:, 2]"
   ]
  },
  {
   "cell_type": "markdown",
   "metadata": {},
   "source": [
    "If $(a_1,\\dots,a_m)$ does not span $\\mathbb{R}^n$, we isometrically transform $a_i\\to a_i'=(\\dots,0)^T$ and then delete the last dimension.\n",
    "\n",
    "If the last dimension of $b'$ is non-zero, it follows immediately that $b$ is linearly independent of $(a_1,\\dots,a_m)$ and the seperating hyperplane is simply $(0,\\dots,0,1)$. Therefore, there is no need to proceed to the main algorithm. After this step, we should have $n\\leq m$."
   ]
  },
  {
   "cell_type": "code",
   "execution_count": 6,
   "metadata": {},
   "outputs": [],
   "source": [
    "if(np.linalg.matrix_rank(A) < n):\n",
    "    u, s, _ = np.linalg.svd(A)\n",
    "    rank = sum(abs(s > 1e-10))\n",
    "    nA = u.T @ A\n",
    "    nb = u.T @ b\n",
    "    assert equal(nA[rank:], 0)\n",
    "\n",
    "    if(not equal(nb[rank:], 0)):\n",
    "        c = -nb\n",
    "        c[:rank] = 0\n",
    "        c = u @ c\n",
    "        print_result(2, A, b, c)\n",
    "    else:\n",
    "        n = rank\n",
    "        A = nA[:rank]\n",
    "        b = nb[:rank]\n",
    "    print('Dimension reduced')"
   ]
  },
  {
   "cell_type": "markdown",
   "metadata": {},
   "source": [
    "In the 2D case, we draw <span style=\"color:blue\">$a_i$</span>'s and <span style=\"color:red\">$b$</span> in the following plot."
   ]
  },
  {
   "cell_type": "code",
   "execution_count": 7,
   "metadata": {},
   "outputs": [
    {
     "data": {
      "image/png": "[encoded data removed]",
      "text/plain": [
       "<Figure size 640x480 with 1 Axes>"
      ]
     },
     "metadata": {},
     "output_type": "display_data"
    }
   ],
   "source": [
    "assert n == 2, 'Visualization only works for n == 2.'\n",
    "\n",
    "for p in A.T:\n",
    "    plt.plot([0,p[0]], [0,p[1]], c='b', alpha=1)\n",
    "plt.plot([0,b[0]], [0,b[1]], c='r')\n",
    "plt.show()"
   ]
  },
  {
   "cell_type": "markdown",
   "metadata": {},
   "source": [
    "## The Solver\n",
    "\n",
    "Now, we are ready to implement the solver.\n",
    "\n",
    "Below is the pseudocode:\n",
    "> - Pick a linearly independent subset $D$ of $\\{a_1, ..., a_m\\}$ with $n$ elements.\n",
    "> - `while(true)`:\n",
    ">     1. Find $\\lambda\\in\\mathbb{R}^n$ such that $b=\\lambda^T D$. If $\\lambda\\in\\mathbb{R}^n_{+}$, exit with case 1.\n",
    ">     2. $h\\gets \\min_i\\{i:\\lambda_i<0\\}$. Find $c\\in\\mathbb{R}^n$ such that $c^Ta_i=\\begin{cases}0, \\text{if }i\\neq h \\\\ 1, \\text{if }i=h\\end{cases},\\forall a_i\\in D$.\n",
    ">     3. If $c^Ta_i\\geq 0, \\forall a_i\\in\\{a_1,\\dots,a_m\\}$, exit with case 2.\n",
    ">     4. $s\\gets \\min_i\\{i:c^Ta_i<0, a_i\\in\\{a_1,\\dots,a_m\\}\\}$. Substitute $a_s$ for $a_h$ in $D$."
   ]
  },
  {
   "cell_type": "code",
   "execution_count": 8,
   "metadata": {},
   "outputs": [],
   "source": [
    "def solve(A, b):\n",
    "    # These global variables store the intermediary results\n",
    "    # and are only used when drawing animations \n",
    "    global poly, cc, ss\n",
    "    \n",
    "    # Pick a linearly independent subset of {a_1, ..., a_m}\n",
    "    for c in combinations(range(m), n):\n",
    "        D = A[:,c]\n",
    "\n",
    "        # Linear dependence means vanishing determinant\n",
    "        if(not equal(np.linalg.det(D), 0)):\n",
    "            D = D.copy()\n",
    "            break\n",
    "\n",
    "    \n",
    "    while(True):\n",
    "        poly = np.concatenate([poly, D.reshape([1,n,n])])\n",
    "\n",
    "        # -------- Step (1) -------- \n",
    "        # The following trick computes lambda\n",
    "        lam = np.linalg.inv(D) @ b\n",
    "        if(geq(lam, 0)):\n",
    "            print_result(1, D, b, lam)\n",
    "            return 1, lam\n",
    "            \n",
    "        \n",
    "        # -------- Step (2) -------- \n",
    "        h = (lam < -1e-10).argmax()\n",
    "\n",
    "        # The following trick computes c\n",
    "        u, _, _ = np.linalg.svd(np.delete(D, h, 1))\n",
    "        c = u.T[-1]\n",
    "\n",
    "        # Normalize c\n",
    "        c /= c @ D[:,h]\n",
    "        cc = np.vstack([cc, c])\n",
    "\n",
    "\n",
    "        # -------- Step (3) --------\n",
    "        ca = c @ A\n",
    "        if(geq(ca, 0)):\n",
    "            print_result(2, A, b, c)\n",
    "            return 2, c\n",
    "\n",
    "        # -------- Step (4) -------- \n",
    "        s = (ca < -1e-8).argmax()\n",
    "        ss = np.vstack([ss, A[:,s].T])\n",
    "\n",
    "        D[:,h] = A[:,s]"
   ]
  },
  {
   "cell_type": "code",
   "execution_count": 9,
   "metadata": {},
   "outputs": [
    {
     "name": "stdout",
     "output_type": "stream",
     "text": [
      "Case 1. lambda = [2.77516816 1.01003012]\n"
     ]
    }
   ],
   "source": [
    "# Initialize intermediary data storage pool.\n",
    "poly = np.empty([0, n, n])\n",
    "cc = np.empty([0, n])\n",
    "ss = np.empty([0, n])\n",
    "\n",
    "# Call the solver\n",
    "case, res = solve(A, b)"
   ]
  },
  {
   "cell_type": "markdown",
   "metadata": {},
   "source": [
    "## Animation\n",
    "Below we create an animation using `matplotlib.animation` package to visualize how this iterative solver works. The animation is 2D and only works when **n == 2**."
   ]
  },
  {
   "cell_type": "code",
   "execution_count": 10,
   "metadata": {},
   "outputs": [],
   "source": [
    "assert n == 2, 'n is not equal to 2'"
   ]
  },
  {
   "cell_type": "code",
   "execution_count": 11,
   "metadata": {},
   "outputs": [],
   "source": [
    "import matplotlib.animation as animation\n",
    "from matplotlib.collections import LineCollection\n",
    "\n",
    "plt.rcParams[\"animation.html\"] = \"jshtml\""
   ]
  },
  {
   "cell_type": "markdown",
   "metadata": {},
   "source": [
    "We first define functions which draw the artifacts."
   ]
  },
  {
   "cell_type": "code",
   "execution_count": 12,
   "metadata": {},
   "outputs": [],
   "source": [
    "def draw_poly(i):\n",
    "    zero = np.zeros([2])\n",
    "\n",
    "    vert = np.vstack([zero, poly[i].T * 100, zero])\n",
    "    codes = np.array([2]*len(vert), dtype='uint8')\n",
    "    codes[0], codes[-1] = 1, 79\n",
    "    path = shade.get_paths()[0]\n",
    "    path.vertices = vert\n",
    "    path.codes = codes\n",
    "\n",
    "def rotate_poly(i, f):\n",
    "    zero = np.zeros([2])\n",
    "\n",
    "    v1, v2 = poly[i].T\n",
    "    v1n, v2n = poly[i+1].T\n",
    "    fix, next = (v1n, v2n) if np.linalg.norm(v2n - ss[i])<1e-8 else (v2n, v1n)\n",
    "    prev = v1 if np.linalg.norm(v2 - fix)<1e-8 else v2\n",
    "\n",
    "    fix, next, prev = fix/np.linalg.norm(fix), next/np.linalg.norm(next), prev/np.linalg.norm(prev)\n",
    "    if(np.cross(fix, prev) * np.cross(fix, next) , 0):\n",
    "        mid = (prev+next) / 2\n",
    "        if(mid @ fix < 0):\n",
    "            mid *= -1\n",
    "        cur = f * mid + (0.5-f) * prev if f < 0.5 else (1-f) * mid + (f-0.5) * next\n",
    "    else:\n",
    "        cur = f * next + (1-f) * prev\n",
    "\n",
    "    vert = np.vstack([zero, fix*100, cur*100, zero])\n",
    "    codes = np.array([2]*len(vert), dtype='uint8')\n",
    "    codes[0], codes[-1] = 1, 79\n",
    "    path = shade.get_paths()[0]\n",
    "    path.vertices = vert\n",
    "    path.codes = codes\n",
    "\n",
    "\n",
    "def draw_line(i, f):\n",
    "    c = cc[i] / np.linalg.norm(cc[i]) * 0.2\n",
    "    x = np.linspace(0,c[0], 100) * f\n",
    "    y = np.linspace(0,c[1], 100) * f\n",
    "    \n",
    "    points = np.array([x, y]).T.reshape(-1, 1, 2)\n",
    "    segments = np.concatenate([points[:-1], points[1:]], axis=1)\n",
    "    \n",
    "    line.set_segments(segments)\n",
    "    \n",
    "    \n",
    "def flash(s, f):\n",
    "    if(0.2 <= f < 0.4 or 0.6<= f < 0.8):\n",
    "        white.set_data([[0, s[0]], [0, s[1]]])\n",
    "    else:\n",
    "        white.set_data([[], []])\n",
    "\n",
    "def clear_line():\n",
    "    line.set_segments([])"
   ]
  },
  {
   "cell_type": "markdown",
   "metadata": {},
   "source": [
    "The following function defines the timeline of the animation"
   ]
  },
  {
   "cell_type": "code",
   "execution_count": 13,
   "metadata": {},
   "outputs": [],
   "source": [
    "def animate(frame):\n",
    "    i = frame // timer_cum[-1]\n",
    "    f = frame % timer_cum[-1]\n",
    "    \n",
    "    if(f == 1):\n",
    "        draw_poly(i)\n",
    "        \n",
    "    ff = (f-timer_cum[0])/timer[1]\n",
    "    if(0 <= ff < 1 and i < len(cc)):\n",
    "        draw_line(i, ff)\n",
    "\n",
    "    ff = (f-timer_cum[1])/timer[2]\n",
    "    if(0 <= ff < 1):\n",
    "        if(i < len(ss)):\n",
    "            flash(ss[i], ff)\n",
    "        elif(i == len(poly)-1):\n",
    "            flash(b, ff)\n",
    "        \n",
    "    if(f == timer_cum[2] and i != len(poly)-1):\n",
    "        clear_line()\n",
    "\n",
    "    ff = (f-timer_cum[2])/timer[3]\n",
    "    if( 0 <= ff < 1 and i < len(ss)):\n",
    "        rotate_poly(i, ff)\n",
    "        \n",
    "    return shade, line"
   ]
  },
  {
   "cell_type": "markdown",
   "metadata": {},
   "source": [
    "Now, we are ready to draw the animation. You should get a gif by executing the following block.\n",
    "\n",
    "In the animation, \n",
    "- the <span style=\"color:#99ccff\">blue block</span> represents the current polyhedron $D$;\n",
    "- the <span style=\"color:#10B7C3\">cyan shade</span> represents the (oriented) hyperplane $c$;\n",
    "- the flashing line represents the current vector in interest."
   ]
  },
  {
   "cell_type": "code",
   "execution_count": null,
   "metadata": {},
   "outputs": [],
   "source": [
    "fig, ax = plt.subplots()\n",
    "\n",
    "for p in A.T:\n",
    "    plt.plot([0,p[0]], [0,p[1]], c='b')\n",
    "\n",
    "plt.plot([0,b[0]], [0,b[1]], c='r')\n",
    "\n",
    "white = plt.plot([0,0],[0,0], c='w')[0]\n",
    "shade = plt.fill_between([0], [0], 0, facecolor = '#e6e6ff')\n",
    "line = ax.add_collection(LineCollection(\n",
    "            np.empty([0,2,2]), linewidths=1000, \n",
    "            alpha=0.7*np.linspace(1,0,100), color='#10B7C3', animated=True))\n",
    "\n",
    "fps = 30\n",
    "\n",
    "timer = np.array([30, 30, 50 ,50])\n",
    "timer_cum = np.cumsum(timer)\n",
    "\n",
    "plt.axis('scaled')\n",
    "\n",
    "ani = animation.FuncAnimation(\n",
    "    fig, animate, interval=1000//fps, blit=True, save_count=len(poly)*timer_cum[-1])\n",
    "\n",
    "ani"
   ]
  },
  {
   "cell_type": "markdown",
   "metadata": {},
   "source": [
    "Run the following code to save your animation."
   ]
  },
  {
   "cell_type": "code",
   "execution_count": null,
   "metadata": {},
   "outputs": [],
   "source": [
    "ani.save(\"animation.gif\")"
   ]
  },
  {
   "cell_type": "markdown",
   "metadata": {},
   "source": [
    "----------------\n",
    "## References\n",
    "[1] Alexander Schrijver. *Theory of Linear and Integer Programming*. John Wiley & Sons, Chichester, 1998."
   ]
  }
 ],
 "metadata": {
  "interpreter": {
   "hash": "edcc2ff4eda6f009346bd3f9f2886ab37a3d86298e3488561ceb23f131449a51"
  },
  "kernelspec": {
   "display_name": "Python 3 (ipykernel)",
   "language": "python",
   "name": "python3"
  },
  "language_info": {
   "codemirror_mode": {
    "name": "ipython",
    "version": 3
   },
   "file_extension": ".py",
   "mimetype": "text/x-python",
   "name": "python",
   "nbconvert_exporter": "python",
   "pygments_lexer": "ipython3",
   "version": "3.9.6"
  }
 },
 "nbformat": 4,
 "nbformat_minor": 4
}
